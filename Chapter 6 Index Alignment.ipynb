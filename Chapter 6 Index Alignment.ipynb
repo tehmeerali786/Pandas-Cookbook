{
 "cells": [
  {
   "cell_type": "markdown",
   "metadata": {},
   "source": [
    "# Chapter 6: Index Alignment\n",
    "## Recipes\n",
    "* [Examining the Index object](#Examining-the-index)\n",
    "* [Producing Cartesian products](#Producing-Cartesian-products)\n",
    "* [Exploding indexes](#Exploding-Indexes)\n",
    "* [Filling values with unequal indexes](#Filling-values-with-unequal-indexes)\n",
    "* [Appending columns from different DataFrames](#Appending-columns-from-different-DataFrames)\n",
    "* [Highlighting the maximum value from each column](#Highlighting-maximum-value-from-each-column)\n",
    "* [Replicating idxmax with method chaining](#Replicating-idxmax-with-method-chaining)\n",
    "* [Finding the most common maximum](#Finding-the-most-common-maximum)"
   ]
  },
  {
   "cell_type": "code",
   "execution_count": 1,
   "metadata": {},
   "outputs": [],
   "source": [
    "import numpy as np\n",
    "import pandas as pd"
   ]
  },
  {
   "cell_type": "markdown",
   "metadata": {},
   "source": [
    "# Examining the index"
   ]
  },
  {
   "cell_type": "code",
   "execution_count": 2,
   "metadata": {},
   "outputs": [
    {
     "data": {
      "text/plain": [
       "Index(['INSTNM', 'CITY', 'STABBR', 'HBCU', 'MENONLY', 'WOMENONLY', 'RELAFFIL',\n",
       "       'SATVRMID', 'SATMTMID', 'DISTANCEONLY', 'UGDS', 'UGDS_WHITE',\n",
       "       'UGDS_BLACK', 'UGDS_HISP', 'UGDS_ASIAN', 'UGDS_AIAN', 'UGDS_NHPI',\n",
       "       'UGDS_2MOR', 'UGDS_NRA', 'UGDS_UNKN', 'PPTUG_EF', 'CURROPER', 'PCTPELL',\n",
       "       'PCTFLOAN', 'UG25ABV', 'MD_EARN_WNE_P10', 'GRAD_DEBT_MDN_SUPP'],\n",
       "      dtype='object')"
      ]
     },
     "execution_count": 2,
     "metadata": {},
     "output_type": "execute_result"
    }
   ],
   "source": [
    "college = pd.read_csv('data/college.csv')\n",
    "columns = college.columns\n",
    "columns"
   ]
  },
  {
   "cell_type": "code",
   "execution_count": 3,
   "metadata": {},
   "outputs": [
    {
     "data": {
      "text/plain": [
       "array([['Alabama A & M University', 'Normal', 'AL', ..., 0.1049, '30300',\n",
       "        '33888'],\n",
       "       ['University of Alabama at Birmingham', 'Birmingham', 'AL', ...,\n",
       "        0.2422, '39700', '21941.5'],\n",
       "       ['Amridge University', 'Montgomery', 'AL', ...,\n",
       "        0.8540000000000001, '40100', '23370'],\n",
       "       ...,\n",
       "       ['National Personal Training Institute of Cleveland',\n",
       "        'Highland Heights', 'OH', ..., nan, nan, '6333'],\n",
       "       ['Bay Area Medical Academy - San Jose Satellite Location',\n",
       "        'San Jose', 'CA', ..., nan, nan, 'PrivacySuppressed'],\n",
       "       ['Excel Learning Center-San Antonio South', 'San Antonio', 'TX',\n",
       "        ..., nan, nan, '12125']], dtype=object)"
      ]
     },
     "execution_count": 3,
     "metadata": {},
     "output_type": "execute_result"
    }
   ],
   "source": [
    "college.values"
   ]
  },
  {
   "cell_type": "code",
   "execution_count": 4,
   "metadata": {},
   "outputs": [
    {
     "data": {
      "text/plain": [
       "'WOMENONLY'"
      ]
     },
     "execution_count": 4,
     "metadata": {},
     "output_type": "execute_result"
    }
   ],
   "source": [
    "columns[5]"
   ]
  },
  {
   "cell_type": "code",
   "execution_count": 5,
   "metadata": {},
   "outputs": [
    {
     "data": {
      "text/plain": [
       "Index(['CITY', 'SATMTMID', 'UGDS'], dtype='object')"
      ]
     },
     "execution_count": 5,
     "metadata": {},
     "output_type": "execute_result"
    }
   ],
   "source": [
    "columns[[1, 8, 10]]"
   ]
  },
  {
   "cell_type": "code",
   "execution_count": 6,
   "metadata": {},
   "outputs": [
    {
     "data": {
      "text/plain": [
       "Index(['PPTUG_EF', 'CURROPER', 'PCTPELL'], dtype='object')"
      ]
     },
     "execution_count": 6,
     "metadata": {},
     "output_type": "execute_result"
    }
   ],
   "source": [
    "columns[-7: -4]"
   ]
  },
  {
   "cell_type": "code",
   "execution_count": 8,
   "metadata": {},
   "outputs": [
    {
     "data": {
      "text/plain": [
       "('CITY', 'WOMENONLY', 0)"
      ]
     },
     "execution_count": 8,
     "metadata": {},
     "output_type": "execute_result"
    }
   ],
   "source": [
    "columns.min(), columns.max(), columns.isnull().sum()"
   ]
  },
  {
   "cell_type": "code",
   "execution_count": 9,
   "metadata": {},
   "outputs": [
    {
     "data": {
      "text/plain": [
       "Index(['INSTNM_A', 'CITY_A', 'STABBR_A', 'HBCU_A', 'MENONLY_A', 'WOMENONLY_A',\n",
       "       'RELAFFIL_A', 'SATVRMID_A', 'SATMTMID_A', 'DISTANCEONLY_A', 'UGDS_A',\n",
       "       'UGDS_WHITE_A', 'UGDS_BLACK_A', 'UGDS_HISP_A', 'UGDS_ASIAN_A',\n",
       "       'UGDS_AIAN_A', 'UGDS_NHPI_A', 'UGDS_2MOR_A', 'UGDS_NRA_A',\n",
       "       'UGDS_UNKN_A', 'PPTUG_EF_A', 'CURROPER_A', 'PCTPELL_A', 'PCTFLOAN_A',\n",
       "       'UG25ABV_A', 'MD_EARN_WNE_P10_A', 'GRAD_DEBT_MDN_SUPP_A'],\n",
       "      dtype='object')"
      ]
     },
     "execution_count": 9,
     "metadata": {},
     "output_type": "execute_result"
    }
   ],
   "source": [
    "columns + '_A'"
   ]
  },
  {
   "cell_type": "code",
   "execution_count": 11,
   "metadata": {},
   "outputs": [],
   "source": [
    "college.columns = columns + '_A'"
   ]
  },
  {
   "cell_type": "code",
   "execution_count": 12,
   "metadata": {},
   "outputs": [
    {
     "data": {
      "text/html": [
       "<div>\n",
       "<style scoped>\n",
       "    .dataframe tbody tr th:only-of-type {\n",
       "        vertical-align: middle;\n",
       "    }\n",
       "\n",
       "    .dataframe tbody tr th {\n",
       "        vertical-align: top;\n",
       "    }\n",
       "\n",
       "    .dataframe thead th {\n",
       "        text-align: right;\n",
       "    }\n",
       "</style>\n",
       "<table border=\"1\" class=\"dataframe\">\n",
       "  <thead>\n",
       "    <tr style=\"text-align: right;\">\n",
       "      <th></th>\n",
       "      <th>INSTNM_A</th>\n",
       "      <th>CITY_A</th>\n",
       "      <th>STABBR_A</th>\n",
       "      <th>HBCU_A</th>\n",
       "      <th>MENONLY_A</th>\n",
       "      <th>WOMENONLY_A</th>\n",
       "      <th>RELAFFIL_A</th>\n",
       "      <th>SATVRMID_A</th>\n",
       "      <th>SATMTMID_A</th>\n",
       "      <th>DISTANCEONLY_A</th>\n",
       "      <th>...</th>\n",
       "      <th>UGDS_2MOR_A</th>\n",
       "      <th>UGDS_NRA_A</th>\n",
       "      <th>UGDS_UNKN_A</th>\n",
       "      <th>PPTUG_EF_A</th>\n",
       "      <th>CURROPER_A</th>\n",
       "      <th>PCTPELL_A</th>\n",
       "      <th>PCTFLOAN_A</th>\n",
       "      <th>UG25ABV_A</th>\n",
       "      <th>MD_EARN_WNE_P10_A</th>\n",
       "      <th>GRAD_DEBT_MDN_SUPP_A</th>\n",
       "    </tr>\n",
       "  </thead>\n",
       "  <tbody>\n",
       "    <tr>\n",
       "      <th>0</th>\n",
       "      <td>Alabama A &amp; M University</td>\n",
       "      <td>Normal</td>\n",
       "      <td>AL</td>\n",
       "      <td>1.0</td>\n",
       "      <td>0.0</td>\n",
       "      <td>0.0</td>\n",
       "      <td>0</td>\n",
       "      <td>424.0</td>\n",
       "      <td>420.0</td>\n",
       "      <td>0.0</td>\n",
       "      <td>...</td>\n",
       "      <td>0.0000</td>\n",
       "      <td>0.0059</td>\n",
       "      <td>0.0138</td>\n",
       "      <td>0.0656</td>\n",
       "      <td>1</td>\n",
       "      <td>0.7356</td>\n",
       "      <td>0.8284</td>\n",
       "      <td>0.1049</td>\n",
       "      <td>30300</td>\n",
       "      <td>33888</td>\n",
       "    </tr>\n",
       "    <tr>\n",
       "      <th>1</th>\n",
       "      <td>University of Alabama at Birmingham</td>\n",
       "      <td>Birmingham</td>\n",
       "      <td>AL</td>\n",
       "      <td>0.0</td>\n",
       "      <td>0.0</td>\n",
       "      <td>0.0</td>\n",
       "      <td>0</td>\n",
       "      <td>570.0</td>\n",
       "      <td>565.0</td>\n",
       "      <td>0.0</td>\n",
       "      <td>...</td>\n",
       "      <td>0.0368</td>\n",
       "      <td>0.0179</td>\n",
       "      <td>0.0100</td>\n",
       "      <td>0.2607</td>\n",
       "      <td>1</td>\n",
       "      <td>0.3460</td>\n",
       "      <td>0.5214</td>\n",
       "      <td>0.2422</td>\n",
       "      <td>39700</td>\n",
       "      <td>21941.5</td>\n",
       "    </tr>\n",
       "    <tr>\n",
       "      <th>2</th>\n",
       "      <td>Amridge University</td>\n",
       "      <td>Montgomery</td>\n",
       "      <td>AL</td>\n",
       "      <td>0.0</td>\n",
       "      <td>0.0</td>\n",
       "      <td>0.0</td>\n",
       "      <td>1</td>\n",
       "      <td>NaN</td>\n",
       "      <td>NaN</td>\n",
       "      <td>1.0</td>\n",
       "      <td>...</td>\n",
       "      <td>0.0000</td>\n",
       "      <td>0.0000</td>\n",
       "      <td>0.2715</td>\n",
       "      <td>0.4536</td>\n",
       "      <td>1</td>\n",
       "      <td>0.6801</td>\n",
       "      <td>0.7795</td>\n",
       "      <td>0.8540</td>\n",
       "      <td>40100</td>\n",
       "      <td>23370</td>\n",
       "    </tr>\n",
       "    <tr>\n",
       "      <th>3</th>\n",
       "      <td>University of Alabama in Huntsville</td>\n",
       "      <td>Huntsville</td>\n",
       "      <td>AL</td>\n",
       "      <td>0.0</td>\n",
       "      <td>0.0</td>\n",
       "      <td>0.0</td>\n",
       "      <td>0</td>\n",
       "      <td>595.0</td>\n",
       "      <td>590.0</td>\n",
       "      <td>0.0</td>\n",
       "      <td>...</td>\n",
       "      <td>0.0172</td>\n",
       "      <td>0.0332</td>\n",
       "      <td>0.0350</td>\n",
       "      <td>0.2146</td>\n",
       "      <td>1</td>\n",
       "      <td>0.3072</td>\n",
       "      <td>0.4596</td>\n",
       "      <td>0.2640</td>\n",
       "      <td>45500</td>\n",
       "      <td>24097</td>\n",
       "    </tr>\n",
       "    <tr>\n",
       "      <th>4</th>\n",
       "      <td>Alabama State University</td>\n",
       "      <td>Montgomery</td>\n",
       "      <td>AL</td>\n",
       "      <td>1.0</td>\n",
       "      <td>0.0</td>\n",
       "      <td>0.0</td>\n",
       "      <td>0</td>\n",
       "      <td>425.0</td>\n",
       "      <td>430.0</td>\n",
       "      <td>0.0</td>\n",
       "      <td>...</td>\n",
       "      <td>0.0098</td>\n",
       "      <td>0.0243</td>\n",
       "      <td>0.0137</td>\n",
       "      <td>0.0892</td>\n",
       "      <td>1</td>\n",
       "      <td>0.7347</td>\n",
       "      <td>0.7554</td>\n",
       "      <td>0.1270</td>\n",
       "      <td>26600</td>\n",
       "      <td>33118.5</td>\n",
       "    </tr>\n",
       "  </tbody>\n",
       "</table>\n",
       "<p>5 rows × 27 columns</p>\n",
       "</div>"
      ],
      "text/plain": [
       "                              INSTNM_A      CITY_A STABBR_A  HBCU_A  \\\n",
       "0             Alabama A & M University      Normal       AL     1.0   \n",
       "1  University of Alabama at Birmingham  Birmingham       AL     0.0   \n",
       "2                   Amridge University  Montgomery       AL     0.0   \n",
       "3  University of Alabama in Huntsville  Huntsville       AL     0.0   \n",
       "4             Alabama State University  Montgomery       AL     1.0   \n",
       "\n",
       "   MENONLY_A  WOMENONLY_A  RELAFFIL_A  SATVRMID_A  SATMTMID_A  DISTANCEONLY_A  \\\n",
       "0        0.0          0.0           0       424.0       420.0             0.0   \n",
       "1        0.0          0.0           0       570.0       565.0             0.0   \n",
       "2        0.0          0.0           1         NaN         NaN             1.0   \n",
       "3        0.0          0.0           0       595.0       590.0             0.0   \n",
       "4        0.0          0.0           0       425.0       430.0             0.0   \n",
       "\n",
       "   ...  UGDS_2MOR_A  UGDS_NRA_A  UGDS_UNKN_A  PPTUG_EF_A  CURROPER_A  \\\n",
       "0  ...       0.0000      0.0059       0.0138      0.0656           1   \n",
       "1  ...       0.0368      0.0179       0.0100      0.2607           1   \n",
       "2  ...       0.0000      0.0000       0.2715      0.4536           1   \n",
       "3  ...       0.0172      0.0332       0.0350      0.2146           1   \n",
       "4  ...       0.0098      0.0243       0.0137      0.0892           1   \n",
       "\n",
       "   PCTPELL_A  PCTFLOAN_A  UG25ABV_A  MD_EARN_WNE_P10_A  GRAD_DEBT_MDN_SUPP_A  \n",
       "0     0.7356      0.8284     0.1049              30300                 33888  \n",
       "1     0.3460      0.5214     0.2422              39700               21941.5  \n",
       "2     0.6801      0.7795     0.8540              40100                 23370  \n",
       "3     0.3072      0.4596     0.2640              45500                 24097  \n",
       "4     0.7347      0.7554     0.1270              26600               33118.5  \n",
       "\n",
       "[5 rows x 27 columns]"
      ]
     },
     "execution_count": 12,
     "metadata": {},
     "output_type": "execute_result"
    }
   ],
   "source": [
    "college.head()"
   ]
  },
  {
   "cell_type": "code",
   "execution_count": 13,
   "metadata": {},
   "outputs": [
    {
     "data": {
      "text/plain": [
       "array([ True, False,  True,  True,  True,  True,  True,  True,  True,\n",
       "       False,  True,  True,  True,  True,  True,  True,  True,  True,\n",
       "        True,  True,  True, False,  True,  True,  True,  True,  True])"
      ]
     },
     "execution_count": 13,
     "metadata": {},
     "output_type": "execute_result"
    }
   ],
   "source": [
    "columns > 'G'"
   ]
  },
  {
   "cell_type": "code",
   "execution_count": 14,
   "metadata": {},
   "outputs": [
    {
     "ename": "TypeError",
     "evalue": "Index does not support mutable operations",
     "output_type": "error",
     "traceback": [
      "\u001b[1;31m---------------------------------------------------------------------------\u001b[0m",
      "\u001b[1;31mTypeError\u001b[0m                                 Traceback (most recent call last)",
      "\u001b[1;32m<ipython-input-14-40b78a76fbde>\u001b[0m in \u001b[0;36m<module>\u001b[1;34m\u001b[0m\n\u001b[1;32m----> 1\u001b[1;33m \u001b[0mcolumns\u001b[0m\u001b[1;33m[\u001b[0m\u001b[1;36m1\u001b[0m\u001b[1;33m]\u001b[0m \u001b[1;33m=\u001b[0m \u001b[1;34m'City'\u001b[0m\u001b[1;33m\u001b[0m\u001b[1;33m\u001b[0m\u001b[0m\n\u001b[0m",
      "\u001b[1;32mC:\\ProgramData\\Anaconda3\\lib\\site-packages\\pandas\\core\\indexes\\base.py\u001b[0m in \u001b[0;36m__setitem__\u001b[1;34m(self, key, value)\u001b[0m\n\u001b[0;32m   3936\u001b[0m \u001b[1;33m\u001b[0m\u001b[0m\n\u001b[0;32m   3937\u001b[0m     \u001b[1;32mdef\u001b[0m \u001b[0m__setitem__\u001b[0m\u001b[1;33m(\u001b[0m\u001b[0mself\u001b[0m\u001b[1;33m,\u001b[0m \u001b[0mkey\u001b[0m\u001b[1;33m,\u001b[0m \u001b[0mvalue\u001b[0m\u001b[1;33m)\u001b[0m\u001b[1;33m:\u001b[0m\u001b[1;33m\u001b[0m\u001b[1;33m\u001b[0m\u001b[0m\n\u001b[1;32m-> 3938\u001b[1;33m         \u001b[1;32mraise\u001b[0m \u001b[0mTypeError\u001b[0m\u001b[1;33m(\u001b[0m\u001b[1;34m\"Index does not support mutable operations\"\u001b[0m\u001b[1;33m)\u001b[0m\u001b[1;33m\u001b[0m\u001b[1;33m\u001b[0m\u001b[0m\n\u001b[0m\u001b[0;32m   3939\u001b[0m \u001b[1;33m\u001b[0m\u001b[0m\n\u001b[0;32m   3940\u001b[0m     \u001b[1;32mdef\u001b[0m \u001b[0m__getitem__\u001b[0m\u001b[1;33m(\u001b[0m\u001b[0mself\u001b[0m\u001b[1;33m,\u001b[0m \u001b[0mkey\u001b[0m\u001b[1;33m)\u001b[0m\u001b[1;33m:\u001b[0m\u001b[1;33m\u001b[0m\u001b[1;33m\u001b[0m\u001b[0m\n",
      "\u001b[1;31mTypeError\u001b[0m: Index does not support mutable operations"
     ]
    }
   ],
   "source": [
    "columns[1] = 'City'"
   ]
  },
  {
   "cell_type": "code",
   "execution_count": 15,
   "metadata": {},
   "outputs": [
    {
     "data": {
      "text/plain": [
       "Index(['INSTNM', 'CITY', 'STABBR', 'HBCU'], dtype='object')"
      ]
     },
     "execution_count": 15,
     "metadata": {},
     "output_type": "execute_result"
    }
   ],
   "source": [
    "c1 = columns[:4]\n",
    "c1"
   ]
  },
  {
   "cell_type": "code",
   "execution_count": 16,
   "metadata": {},
   "outputs": [
    {
     "data": {
      "text/plain": [
       "Index(['STABBR', 'HBCU', 'MENONLY'], dtype='object')"
      ]
     },
     "execution_count": 16,
     "metadata": {},
     "output_type": "execute_result"
    }
   ],
   "source": [
    "c2 = columns[2:5]\n",
    "c2"
   ]
  },
  {
   "cell_type": "code",
   "execution_count": 17,
   "metadata": {},
   "outputs": [
    {
     "data": {
      "text/plain": [
       "Index(['CITY', 'HBCU', 'INSTNM', 'MENONLY', 'STABBR'], dtype='object')"
      ]
     },
     "execution_count": 17,
     "metadata": {},
     "output_type": "execute_result"
    }
   ],
   "source": [
    "c1.union(c2)"
   ]
  },
  {
   "cell_type": "code",
   "execution_count": 18,
   "metadata": {},
   "outputs": [
    {
     "data": {
      "text/plain": [
       "Index(['CITY', 'HBCU', 'INSTNM', 'MENONLY', 'STABBR'], dtype='object')"
      ]
     },
     "execution_count": 18,
     "metadata": {},
     "output_type": "execute_result"
    }
   ],
   "source": [
    "c1 | c2"
   ]
  },
  {
   "cell_type": "code",
   "execution_count": 19,
   "metadata": {},
   "outputs": [
    {
     "data": {
      "text/plain": [
       "Index(['CITY', 'INSTNM', 'MENONLY'], dtype='object')"
      ]
     },
     "execution_count": 19,
     "metadata": {},
     "output_type": "execute_result"
    }
   ],
   "source": [
    "c1.symmetric_difference(c2)"
   ]
  },
  {
   "cell_type": "code",
   "execution_count": 20,
   "metadata": {},
   "outputs": [
    {
     "data": {
      "text/plain": [
       "Index(['CITY', 'INSTNM', 'MENONLY'], dtype='object')"
      ]
     },
     "execution_count": 20,
     "metadata": {},
     "output_type": "execute_result"
    }
   ],
   "source": [
    "c1 ^ c2"
   ]
  },
  {
   "cell_type": "markdown",
   "metadata": {},
   "source": [
    "# Producing Cartesian Products"
   ]
  },
  {
   "cell_type": "code",
   "execution_count": 21,
   "metadata": {},
   "outputs": [
    {
     "data": {
      "text/plain": [
       "a    0\n",
       "a    1\n",
       "a    2\n",
       "b    3\n",
       "dtype: int32"
      ]
     },
     "execution_count": 21,
     "metadata": {},
     "output_type": "execute_result"
    }
   ],
   "source": [
    "s1 = pd.Series(index=list('aaab'), data=np.arange(4))\n",
    "s1"
   ]
  },
  {
   "cell_type": "code",
   "execution_count": 24,
   "metadata": {},
   "outputs": [
    {
     "data": {
      "text/plain": [
       "c    0\n",
       "a    1\n",
       "b    2\n",
       "a    3\n",
       "b    4\n",
       "b    5\n",
       "dtype: int32"
      ]
     },
     "execution_count": 24,
     "metadata": {},
     "output_type": "execute_result"
    }
   ],
   "source": [
    "s2 = pd.Series(index=list('cababb'), data=np.arange(6))\n",
    "s2"
   ]
  },
  {
   "cell_type": "code",
   "execution_count": 25,
   "metadata": {},
   "outputs": [],
   "source": [
    "data=np.arange(6)"
   ]
  },
  {
   "cell_type": "code",
   "execution_count": 26,
   "metadata": {},
   "outputs": [
    {
     "data": {
      "text/plain": [
       "array([0, 1, 2, 3, 4, 5])"
      ]
     },
     "execution_count": 26,
     "metadata": {},
     "output_type": "execute_result"
    }
   ],
   "source": [
    "data"
   ]
  },
  {
   "cell_type": "code",
   "execution_count": 27,
   "metadata": {},
   "outputs": [
    {
     "data": {
      "text/plain": [
       "a    1.0\n",
       "a    3.0\n",
       "a    2.0\n",
       "a    4.0\n",
       "a    3.0\n",
       "a    5.0\n",
       "b    5.0\n",
       "b    7.0\n",
       "b    8.0\n",
       "c    NaN\n",
       "dtype: float64"
      ]
     },
     "execution_count": 27,
     "metadata": {},
     "output_type": "execute_result"
    }
   ],
   "source": [
    "s1 + s2"
   ]
  },
  {
   "cell_type": "markdown",
   "metadata": {},
   "source": [
    "## There's more"
   ]
  },
  {
   "cell_type": "code",
   "execution_count": 30,
   "metadata": {},
   "outputs": [
    {
     "data": {
      "text/plain": [
       "a    2\n",
       "a    3\n",
       "a    4\n",
       "a    3\n",
       "a    4\n",
       "a    5\n",
       "a    4\n",
       "a    5\n",
       "a    6\n",
       "b    3\n",
       "b    4\n",
       "b    4\n",
       "b    5\n",
       "dtype: int32"
      ]
     },
     "execution_count": 30,
     "metadata": {},
     "output_type": "execute_result"
    }
   ],
   "source": [
    "s1 = pd.Series(index=list('aaabb'), data=np.arange(5))\n",
    "s2 = pd.Series(index=list('bbaaa'), data=np.arange(5))\n",
    "s1 + s2"
   ]
  },
  {
   "cell_type": "code",
   "execution_count": 2,
   "metadata": {},
   "outputs": [
    {
     "name": "stdout",
     "output_type": "stream",
     "text": [
      "97\n"
     ]
    }
   ],
   "source": [
    "print(ord('a'))"
   ]
  },
  {
   "cell_type": "code",
   "execution_count": 4,
   "metadata": {},
   "outputs": [
    {
     "data": {
      "text/plain": [
       "a    2\n",
       "a    3\n",
       "a    4\n",
       "a    3\n",
       "a    4\n",
       "a    5\n",
       "a    4\n",
       "a    5\n",
       "a    6\n",
       "b    3\n",
       "b    4\n",
       "b    4\n",
       "b    5\n",
       "dtype: int32"
      ]
     },
     "execution_count": 4,
     "metadata": {},
     "output_type": "execute_result"
    }
   ],
   "source": [
    "# If order is not same of index, cartesian product happened first and then operation occurs.\n",
    "s1 = pd.Series(index=list('aaabb'), data=np.arange(5))\n",
    "s2 = pd.Series(index = list('bbaaa'), data=np.arange(5))\n",
    "s1 + s2"
   ]
  },
  {
   "cell_type": "markdown",
   "metadata": {},
   "source": [
    "# Exploding Indexes"
   ]
  },
  {
   "cell_type": "code",
   "execution_count": 5,
   "metadata": {},
   "outputs": [
    {
     "data": {
      "text/html": [
       "<div>\n",
       "<style scoped>\n",
       "    .dataframe tbody tr th:only-of-type {\n",
       "        vertical-align: middle;\n",
       "    }\n",
       "\n",
       "    .dataframe tbody tr th {\n",
       "        vertical-align: top;\n",
       "    }\n",
       "\n",
       "    .dataframe thead th {\n",
       "        text-align: right;\n",
       "    }\n",
       "</style>\n",
       "<table border=\"1\" class=\"dataframe\">\n",
       "  <thead>\n",
       "    <tr style=\"text-align: right;\">\n",
       "      <th></th>\n",
       "      <th>UNIQUE_ID</th>\n",
       "      <th>POSITION_TITLE</th>\n",
       "      <th>DEPARTMENT</th>\n",
       "      <th>BASE_SALARY</th>\n",
       "      <th>EMPLOYMENT_TYPE</th>\n",
       "      <th>GENDER</th>\n",
       "      <th>EMPLOYMENT_STATUS</th>\n",
       "      <th>HIRE_DATE</th>\n",
       "      <th>JOB_DATE</th>\n",
       "    </tr>\n",
       "    <tr>\n",
       "      <th>RACE</th>\n",
       "      <th></th>\n",
       "      <th></th>\n",
       "      <th></th>\n",
       "      <th></th>\n",
       "      <th></th>\n",
       "      <th></th>\n",
       "      <th></th>\n",
       "      <th></th>\n",
       "      <th></th>\n",
       "    </tr>\n",
       "  </thead>\n",
       "  <tbody>\n",
       "    <tr>\n",
       "      <th>Hispanic/Latino</th>\n",
       "      <td>0</td>\n",
       "      <td>ASSISTANT DIRECTOR (EX LVL)</td>\n",
       "      <td>Municipal Courts Department</td>\n",
       "      <td>121862.0</td>\n",
       "      <td>Full Time</td>\n",
       "      <td>Female</td>\n",
       "      <td>Active</td>\n",
       "      <td>2006-06-12</td>\n",
       "      <td>2012-10-13</td>\n",
       "    </tr>\n",
       "    <tr>\n",
       "      <th>Hispanic/Latino</th>\n",
       "      <td>1</td>\n",
       "      <td>LIBRARY ASSISTANT</td>\n",
       "      <td>Library</td>\n",
       "      <td>26125.0</td>\n",
       "      <td>Full Time</td>\n",
       "      <td>Female</td>\n",
       "      <td>Active</td>\n",
       "      <td>2000-07-19</td>\n",
       "      <td>2010-09-18</td>\n",
       "    </tr>\n",
       "    <tr>\n",
       "      <th>White</th>\n",
       "      <td>2</td>\n",
       "      <td>POLICE OFFICER</td>\n",
       "      <td>Houston Police Department-HPD</td>\n",
       "      <td>45279.0</td>\n",
       "      <td>Full Time</td>\n",
       "      <td>Male</td>\n",
       "      <td>Active</td>\n",
       "      <td>2015-02-03</td>\n",
       "      <td>2015-02-03</td>\n",
       "    </tr>\n",
       "    <tr>\n",
       "      <th>White</th>\n",
       "      <td>3</td>\n",
       "      <td>ENGINEER/OPERATOR</td>\n",
       "      <td>Houston Fire Department (HFD)</td>\n",
       "      <td>63166.0</td>\n",
       "      <td>Full Time</td>\n",
       "      <td>Male</td>\n",
       "      <td>Active</td>\n",
       "      <td>1982-02-08</td>\n",
       "      <td>1991-05-25</td>\n",
       "    </tr>\n",
       "    <tr>\n",
       "      <th>White</th>\n",
       "      <td>4</td>\n",
       "      <td>ELECTRICIAN</td>\n",
       "      <td>General Services Department</td>\n",
       "      <td>56347.0</td>\n",
       "      <td>Full Time</td>\n",
       "      <td>Male</td>\n",
       "      <td>Active</td>\n",
       "      <td>1989-06-19</td>\n",
       "      <td>1994-10-22</td>\n",
       "    </tr>\n",
       "  </tbody>\n",
       "</table>\n",
       "</div>"
      ],
      "text/plain": [
       "                 UNIQUE_ID               POSITION_TITLE  \\\n",
       "RACE                                                      \n",
       "Hispanic/Latino          0  ASSISTANT DIRECTOR (EX LVL)   \n",
       "Hispanic/Latino          1            LIBRARY ASSISTANT   \n",
       "White                    2               POLICE OFFICER   \n",
       "White                    3            ENGINEER/OPERATOR   \n",
       "White                    4                  ELECTRICIAN   \n",
       "\n",
       "                                    DEPARTMENT  BASE_SALARY EMPLOYMENT_TYPE  \\\n",
       "RACE                                                                          \n",
       "Hispanic/Latino    Municipal Courts Department     121862.0       Full Time   \n",
       "Hispanic/Latino                        Library      26125.0       Full Time   \n",
       "White            Houston Police Department-HPD      45279.0       Full Time   \n",
       "White            Houston Fire Department (HFD)      63166.0       Full Time   \n",
       "White              General Services Department      56347.0       Full Time   \n",
       "\n",
       "                 GENDER EMPLOYMENT_STATUS   HIRE_DATE    JOB_DATE  \n",
       "RACE                                                               \n",
       "Hispanic/Latino  Female            Active  2006-06-12  2012-10-13  \n",
       "Hispanic/Latino  Female            Active  2000-07-19  2010-09-18  \n",
       "White              Male            Active  2015-02-03  2015-02-03  \n",
       "White              Male            Active  1982-02-08  1991-05-25  \n",
       "White              Male            Active  1989-06-19  1994-10-22  "
      ]
     },
     "execution_count": 5,
     "metadata": {},
     "output_type": "execute_result"
    }
   ],
   "source": [
    "employee = pd.read_csv('data/employee.csv', index_col='RACE')\n",
    "employee.head()"
   ]
  },
  {
   "cell_type": "code",
   "execution_count": 6,
   "metadata": {},
   "outputs": [
    {
     "data": {
      "text/plain": [
       "True"
      ]
     },
     "execution_count": 6,
     "metadata": {},
     "output_type": "execute_result"
    }
   ],
   "source": [
    "Salary1 = employee['BASE_SALARY']\n",
    "Salary2 = employee['BASE_SALARY']\n",
    "Salary1 is Salary2"
   ]
  },
  {
   "cell_type": "code",
   "execution_count": 7,
   "metadata": {},
   "outputs": [],
   "source": [
    "Salary1 = employee['BASE_SALARY'].copy()\n",
    "Salary2 = employee['BASE_SALARY'].copy()"
   ]
  },
  {
   "cell_type": "code",
   "execution_count": 8,
   "metadata": {},
   "outputs": [
    {
     "data": {
      "text/plain": [
       "False"
      ]
     },
     "execution_count": 8,
     "metadata": {},
     "output_type": "execute_result"
    }
   ],
   "source": [
    "Salary1 is Salary2"
   ]
  },
  {
   "cell_type": "code",
   "execution_count": 9,
   "metadata": {},
   "outputs": [],
   "source": [
    "Salary1 = Salary1.sort_index()"
   ]
  },
  {
   "cell_type": "code",
   "execution_count": 10,
   "metadata": {},
   "outputs": [
    {
     "data": {
      "text/plain": [
       "RACE\n",
       "American Indian or Alaskan Native    78355.0\n",
       "American Indian or Alaskan Native    26125.0\n",
       "American Indian or Alaskan Native    98536.0\n",
       "American Indian or Alaskan Native        NaN\n",
       "American Indian or Alaskan Native    55461.0\n",
       "Name: BASE_SALARY, dtype: float64"
      ]
     },
     "execution_count": 10,
     "metadata": {},
     "output_type": "execute_result"
    }
   ],
   "source": [
    "Salary1.head()"
   ]
  },
  {
   "cell_type": "code",
   "execution_count": 11,
   "metadata": {},
   "outputs": [
    {
     "data": {
      "text/plain": [
       "RACE\n",
       "Hispanic/Latino    121862.0\n",
       "Hispanic/Latino     26125.0\n",
       "White               45279.0\n",
       "White               63166.0\n",
       "White               56347.0\n",
       "Name: BASE_SALARY, dtype: float64"
      ]
     },
     "execution_count": 11,
     "metadata": {},
     "output_type": "execute_result"
    }
   ],
   "source": [
    "Salary2.head()"
   ]
  },
  {
   "cell_type": "code",
   "execution_count": 12,
   "metadata": {},
   "outputs": [],
   "source": [
    "salary_add = Salary1 + Salary2"
   ]
  },
  {
   "cell_type": "code",
   "execution_count": 13,
   "metadata": {},
   "outputs": [],
   "source": [
    "salary_add1 = Salary1 + Salary1"
   ]
  },
  {
   "cell_type": "code",
   "execution_count": 14,
   "metadata": {},
   "outputs": [
    {
     "data": {
      "text/plain": [
       "(2000, 2000, 1175424, 2000)"
      ]
     },
     "execution_count": 14,
     "metadata": {},
     "output_type": "execute_result"
    }
   ],
   "source": [
    "len(Salary1), len(Salary2), len(salary_add), len(salary_add1)"
   ]
  },
  {
   "cell_type": "code",
   "execution_count": 15,
   "metadata": {},
   "outputs": [
    {
     "data": {
      "text/plain": [
       "RACE\n",
       "American Indian or Alaskan Native    138702.0\n",
       "American Indian or Alaskan Native    156710.0\n",
       "American Indian or Alaskan Native    176891.0\n",
       "American Indian or Alaskan Native    159594.0\n",
       "American Indian or Alaskan Native    127734.0\n",
       "Name: BASE_SALARY, dtype: float64"
      ]
     },
     "execution_count": 15,
     "metadata": {},
     "output_type": "execute_result"
    }
   ],
   "source": [
    "salary_add.head()"
   ]
  },
  {
   "cell_type": "markdown",
   "metadata": {},
   "source": [
    "## There is more ......"
   ]
  },
  {
   "cell_type": "code",
   "execution_count": 17,
   "metadata": {},
   "outputs": [],
   "source": [
    "index_vc = Salary1.index.value_counts(dropna=False)"
   ]
  },
  {
   "cell_type": "code",
   "execution_count": 18,
   "metadata": {},
   "outputs": [
    {
     "data": {
      "text/plain": [
       "Black or African American            700\n",
       "White                                665\n",
       "Hispanic/Latino                      480\n",
       "Asian/Pacific Islander               107\n",
       "NaN                                   35\n",
       "American Indian or Alaskan Native     11\n",
       "Others                                 2\n",
       "Name: RACE, dtype: int64"
      ]
     },
     "execution_count": 18,
     "metadata": {},
     "output_type": "execute_result"
    }
   ],
   "source": [
    "index_vc"
   ]
  },
  {
   "cell_type": "code",
   "execution_count": 19,
   "metadata": {},
   "outputs": [
    {
     "data": {
      "text/plain": [
       "1175424"
      ]
     },
     "execution_count": 19,
     "metadata": {},
     "output_type": "execute_result"
    }
   ],
   "source": [
    "index_vc.pow(2).sum()"
   ]
  },
  {
   "cell_type": "markdown",
   "metadata": {},
   "source": [
    "# Filing values with unequal indexes"
   ]
  },
  {
   "cell_type": "code",
   "execution_count": 21,
   "metadata": {},
   "outputs": [
    {
     "data": {
      "text/html": [
       "<div>\n",
       "<style scoped>\n",
       "    .dataframe tbody tr th:only-of-type {\n",
       "        vertical-align: middle;\n",
       "    }\n",
       "\n",
       "    .dataframe tbody tr th {\n",
       "        vertical-align: top;\n",
       "    }\n",
       "\n",
       "    .dataframe thead th {\n",
       "        text-align: right;\n",
       "    }\n",
       "</style>\n",
       "<table border=\"1\" class=\"dataframe\">\n",
       "  <thead>\n",
       "    <tr style=\"text-align: right;\">\n",
       "      <th></th>\n",
       "      <th>yearID</th>\n",
       "      <th>stint</th>\n",
       "      <th>teamID</th>\n",
       "      <th>lgID</th>\n",
       "      <th>G</th>\n",
       "      <th>AB</th>\n",
       "      <th>R</th>\n",
       "      <th>H</th>\n",
       "      <th>2B</th>\n",
       "      <th>3B</th>\n",
       "      <th>...</th>\n",
       "      <th>RBI</th>\n",
       "      <th>SB</th>\n",
       "      <th>CS</th>\n",
       "      <th>BB</th>\n",
       "      <th>SO</th>\n",
       "      <th>IBB</th>\n",
       "      <th>HBP</th>\n",
       "      <th>SH</th>\n",
       "      <th>SF</th>\n",
       "      <th>GIDP</th>\n",
       "    </tr>\n",
       "    <tr>\n",
       "      <th>playerID</th>\n",
       "      <th></th>\n",
       "      <th></th>\n",
       "      <th></th>\n",
       "      <th></th>\n",
       "      <th></th>\n",
       "      <th></th>\n",
       "      <th></th>\n",
       "      <th></th>\n",
       "      <th></th>\n",
       "      <th></th>\n",
       "      <th></th>\n",
       "      <th></th>\n",
       "      <th></th>\n",
       "      <th></th>\n",
       "      <th></th>\n",
       "      <th></th>\n",
       "      <th></th>\n",
       "      <th></th>\n",
       "      <th></th>\n",
       "      <th></th>\n",
       "      <th></th>\n",
       "    </tr>\n",
       "  </thead>\n",
       "  <tbody>\n",
       "    <tr>\n",
       "      <th>altuvjo01</th>\n",
       "      <td>2014</td>\n",
       "      <td>1</td>\n",
       "      <td>HOU</td>\n",
       "      <td>AL</td>\n",
       "      <td>158</td>\n",
       "      <td>660</td>\n",
       "      <td>85</td>\n",
       "      <td>225</td>\n",
       "      <td>47</td>\n",
       "      <td>3</td>\n",
       "      <td>...</td>\n",
       "      <td>59.0</td>\n",
       "      <td>56.0</td>\n",
       "      <td>9.0</td>\n",
       "      <td>36</td>\n",
       "      <td>53.0</td>\n",
       "      <td>7.0</td>\n",
       "      <td>5.0</td>\n",
       "      <td>1.0</td>\n",
       "      <td>5.0</td>\n",
       "      <td>20.0</td>\n",
       "    </tr>\n",
       "    <tr>\n",
       "      <th>cartech02</th>\n",
       "      <td>2014</td>\n",
       "      <td>1</td>\n",
       "      <td>HOU</td>\n",
       "      <td>AL</td>\n",
       "      <td>145</td>\n",
       "      <td>507</td>\n",
       "      <td>68</td>\n",
       "      <td>115</td>\n",
       "      <td>21</td>\n",
       "      <td>1</td>\n",
       "      <td>...</td>\n",
       "      <td>88.0</td>\n",
       "      <td>5.0</td>\n",
       "      <td>2.0</td>\n",
       "      <td>56</td>\n",
       "      <td>182.0</td>\n",
       "      <td>6.0</td>\n",
       "      <td>5.0</td>\n",
       "      <td>0.0</td>\n",
       "      <td>4.0</td>\n",
       "      <td>12.0</td>\n",
       "    </tr>\n",
       "    <tr>\n",
       "      <th>castrja01</th>\n",
       "      <td>2014</td>\n",
       "      <td>1</td>\n",
       "      <td>HOU</td>\n",
       "      <td>AL</td>\n",
       "      <td>126</td>\n",
       "      <td>465</td>\n",
       "      <td>43</td>\n",
       "      <td>103</td>\n",
       "      <td>21</td>\n",
       "      <td>2</td>\n",
       "      <td>...</td>\n",
       "      <td>56.0</td>\n",
       "      <td>1.0</td>\n",
       "      <td>0.0</td>\n",
       "      <td>34</td>\n",
       "      <td>151.0</td>\n",
       "      <td>1.0</td>\n",
       "      <td>9.0</td>\n",
       "      <td>1.0</td>\n",
       "      <td>3.0</td>\n",
       "      <td>11.0</td>\n",
       "    </tr>\n",
       "    <tr>\n",
       "      <th>corpoca01</th>\n",
       "      <td>2014</td>\n",
       "      <td>1</td>\n",
       "      <td>HOU</td>\n",
       "      <td>AL</td>\n",
       "      <td>55</td>\n",
       "      <td>170</td>\n",
       "      <td>22</td>\n",
       "      <td>40</td>\n",
       "      <td>6</td>\n",
       "      <td>0</td>\n",
       "      <td>...</td>\n",
       "      <td>19.0</td>\n",
       "      <td>0.0</td>\n",
       "      <td>0.0</td>\n",
       "      <td>14</td>\n",
       "      <td>37.0</td>\n",
       "      <td>0.0</td>\n",
       "      <td>3.0</td>\n",
       "      <td>1.0</td>\n",
       "      <td>2.0</td>\n",
       "      <td>3.0</td>\n",
       "    </tr>\n",
       "    <tr>\n",
       "      <th>dominma01</th>\n",
       "      <td>2014</td>\n",
       "      <td>1</td>\n",
       "      <td>HOU</td>\n",
       "      <td>AL</td>\n",
       "      <td>157</td>\n",
       "      <td>564</td>\n",
       "      <td>51</td>\n",
       "      <td>121</td>\n",
       "      <td>17</td>\n",
       "      <td>0</td>\n",
       "      <td>...</td>\n",
       "      <td>57.0</td>\n",
       "      <td>0.0</td>\n",
       "      <td>1.0</td>\n",
       "      <td>29</td>\n",
       "      <td>125.0</td>\n",
       "      <td>2.0</td>\n",
       "      <td>5.0</td>\n",
       "      <td>2.0</td>\n",
       "      <td>7.0</td>\n",
       "      <td>23.0</td>\n",
       "    </tr>\n",
       "  </tbody>\n",
       "</table>\n",
       "<p>5 rows × 21 columns</p>\n",
       "</div>"
      ],
      "text/plain": [
       "           yearID  stint teamID lgID    G   AB   R    H  2B  3B  ...   RBI  \\\n",
       "playerID                                                         ...         \n",
       "altuvjo01    2014      1    HOU   AL  158  660  85  225  47   3  ...  59.0   \n",
       "cartech02    2014      1    HOU   AL  145  507  68  115  21   1  ...  88.0   \n",
       "castrja01    2014      1    HOU   AL  126  465  43  103  21   2  ...  56.0   \n",
       "corpoca01    2014      1    HOU   AL   55  170  22   40   6   0  ...  19.0   \n",
       "dominma01    2014      1    HOU   AL  157  564  51  121  17   0  ...  57.0   \n",
       "\n",
       "             SB   CS  BB     SO  IBB  HBP   SH   SF  GIDP  \n",
       "playerID                                                   \n",
       "altuvjo01  56.0  9.0  36   53.0  7.0  5.0  1.0  5.0  20.0  \n",
       "cartech02   5.0  2.0  56  182.0  6.0  5.0  0.0  4.0  12.0  \n",
       "castrja01   1.0  0.0  34  151.0  1.0  9.0  1.0  3.0  11.0  \n",
       "corpoca01   0.0  0.0  14   37.0  0.0  3.0  1.0  2.0   3.0  \n",
       "dominma01   0.0  1.0  29  125.0  2.0  5.0  2.0  7.0  23.0  \n",
       "\n",
       "[5 rows x 21 columns]"
      ]
     },
     "execution_count": 21,
     "metadata": {},
     "output_type": "execute_result"
    }
   ],
   "source": [
    "baseball_14 = pd.read_csv('data/baseball14.csv', index_col='playerID')\n",
    "baseball_15  = pd.read_csv('data/baseball15.csv', index_col='playerID')\n",
    "baseball_16 = pd.read_csv('data/baseball16.csv', index_col='playerID')\n",
    "baseball_14.head()"
   ]
  },
  {
   "cell_type": "code",
   "execution_count": 22,
   "metadata": {},
   "outputs": [
    {
     "data": {
      "text/plain": [
       "Index(['corpoca01', 'dominma01', 'fowlede01', 'grossro01', 'guzmaje01',\n",
       "       'hoeslj01', 'krausma01', 'preslal01', 'singljo02'],\n",
       "      dtype='object', name='playerID')"
      ]
     },
     "execution_count": 22,
     "metadata": {},
     "output_type": "execute_result"
    }
   ],
   "source": [
    "baseball_14.index.difference(baseball_15.index)"
   ]
  },
  {
   "cell_type": "code",
   "execution_count": 23,
   "metadata": {},
   "outputs": [
    {
     "data": {
      "text/plain": [
       "Index(['cartech02', 'corpoca01', 'dominma01', 'fowlede01', 'grossro01',\n",
       "       'guzmaje01', 'hoeslj01', 'krausma01', 'preslal01', 'singljo02',\n",
       "       'villajo01'],\n",
       "      dtype='object', name='playerID')"
      ]
     },
     "execution_count": 23,
     "metadata": {},
     "output_type": "execute_result"
    }
   ],
   "source": [
    "baseball_14.index.difference(baseball_16.index)"
   ]
  },
  {
   "cell_type": "code",
   "execution_count": 24,
   "metadata": {},
   "outputs": [
    {
     "data": {
      "text/plain": [
       "playerID\n",
       "altuvjo01    225\n",
       "cartech02    115\n",
       "castrja01    103\n",
       "corpoca01     40\n",
       "dominma01    121\n",
       "Name: H, dtype: int64"
      ]
     },
     "execution_count": 24,
     "metadata": {},
     "output_type": "execute_result"
    }
   ],
   "source": [
    "hits_14 = baseball_14['H']\n",
    "hits_15 = baseball_15['H']\n",
    "hits_16 = baseball_16['H']\n",
    "hits_14.head()"
   ]
  },
  {
   "cell_type": "code",
   "execution_count": 27,
   "metadata": {},
   "outputs": [
    {
     "data": {
      "text/plain": [
       "playerID\n",
       "altuvjo01    425.0\n",
       "cartech02    193.0\n",
       "castrja01    174.0\n",
       "congeha01      NaN\n",
       "corpoca01      NaN\n",
       "Name: H, dtype: float64"
      ]
     },
     "execution_count": 27,
     "metadata": {},
     "output_type": "execute_result"
    }
   ],
   "source": [
    "(hits_14 + hits_15).head()"
   ]
  },
  {
   "cell_type": "code",
   "execution_count": 28,
   "metadata": {},
   "outputs": [
    {
     "data": {
      "text/plain": [
       "playerID\n",
       "altuvjo01    425.0\n",
       "cartech02    193.0\n",
       "castrja01    174.0\n",
       "congeha01     46.0\n",
       "corpoca01     40.0\n",
       "Name: H, dtype: float64"
      ]
     },
     "execution_count": 28,
     "metadata": {},
     "output_type": "execute_result"
    }
   ],
   "source": [
    "hits_14.add(hits_15, fill_value=0).head()"
   ]
  },
  {
   "cell_type": "code",
   "execution_count": 29,
   "metadata": {},
   "outputs": [],
   "source": [
    "hits_total = hits_14.add(hits_15, fill_value=0).add(hits_16, fill_value=0)"
   ]
  },
  {
   "cell_type": "code",
   "execution_count": 30,
   "metadata": {},
   "outputs": [
    {
     "data": {
      "text/plain": [
       "False"
      ]
     },
     "execution_count": 30,
     "metadata": {},
     "output_type": "execute_result"
    }
   ],
   "source": [
    "hits_total.hasnans"
   ]
  },
  {
   "cell_type": "markdown",
   "metadata": {},
   "source": [
    "## How it works .........."
   ]
  },
  {
   "cell_type": "code",
   "execution_count": 31,
   "metadata": {},
   "outputs": [
    {
     "data": {
      "text/plain": [
       "a    NaN\n",
       "b    3.0\n",
       "c    NaN\n",
       "d    1.0\n",
       "dtype: float64"
      ]
     },
     "execution_count": 31,
     "metadata": {},
     "output_type": "execute_result"
    }
   ],
   "source": [
    "s = pd.Series(index=['a', 'b', 'c', 'd'], data=[np.nan, 3, np.nan, 1])\n",
    "s"
   ]
  },
  {
   "cell_type": "code",
   "execution_count": 32,
   "metadata": {},
   "outputs": [
    {
     "data": {
      "text/plain": [
       "a     NaN\n",
       "b     6.0\n",
       "c    10.0\n",
       "dtype: float64"
      ]
     },
     "execution_count": 32,
     "metadata": {},
     "output_type": "execute_result"
    }
   ],
   "source": [
    "s1 = pd.Series(index=['a', 'b', 'c'], data=[np.nan, 6, 10])\n",
    "s1"
   ]
  },
  {
   "cell_type": "code",
   "execution_count": 35,
   "metadata": {},
   "outputs": [
    {
     "data": {
      "text/plain": [
       "a     NaN\n",
       "b     9.0\n",
       "c    15.0\n",
       "d     6.0\n",
       "dtype: float64"
      ]
     },
     "execution_count": 35,
     "metadata": {},
     "output_type": "execute_result"
    }
   ],
   "source": [
    "s.add(s1, fill_value=5)"
   ]
  },
  {
   "cell_type": "code",
   "execution_count": 36,
   "metadata": {},
   "outputs": [
    {
     "data": {
      "text/plain": [
       "a     NaN\n",
       "b     9.0\n",
       "c    15.0\n",
       "d     6.0\n",
       "dtype: float64"
      ]
     },
     "execution_count": 36,
     "metadata": {},
     "output_type": "execute_result"
    }
   ],
   "source": [
    "s1.add(s, fill_value=5)"
   ]
  },
  {
   "cell_type": "markdown",
   "metadata": {},
   "source": [
    "## There is more ........"
   ]
  },
  {
   "cell_type": "code",
   "execution_count": 37,
   "metadata": {},
   "outputs": [
    {
     "data": {
      "text/html": [
       "<div>\n",
       "<style scoped>\n",
       "    .dataframe tbody tr th:only-of-type {\n",
       "        vertical-align: middle;\n",
       "    }\n",
       "\n",
       "    .dataframe tbody tr th {\n",
       "        vertical-align: top;\n",
       "    }\n",
       "\n",
       "    .dataframe thead th {\n",
       "        text-align: right;\n",
       "    }\n",
       "</style>\n",
       "<table border=\"1\" class=\"dataframe\">\n",
       "  <thead>\n",
       "    <tr style=\"text-align: right;\">\n",
       "      <th></th>\n",
       "      <th>G</th>\n",
       "      <th>AB</th>\n",
       "      <th>R</th>\n",
       "      <th>H</th>\n",
       "    </tr>\n",
       "    <tr>\n",
       "      <th>playerID</th>\n",
       "      <th></th>\n",
       "      <th></th>\n",
       "      <th></th>\n",
       "      <th></th>\n",
       "    </tr>\n",
       "  </thead>\n",
       "  <tbody>\n",
       "    <tr>\n",
       "      <th>altuvjo01</th>\n",
       "      <td>158</td>\n",
       "      <td>660</td>\n",
       "      <td>85</td>\n",
       "      <td>225</td>\n",
       "    </tr>\n",
       "    <tr>\n",
       "      <th>cartech02</th>\n",
       "      <td>145</td>\n",
       "      <td>507</td>\n",
       "      <td>68</td>\n",
       "      <td>115</td>\n",
       "    </tr>\n",
       "    <tr>\n",
       "      <th>castrja01</th>\n",
       "      <td>126</td>\n",
       "      <td>465</td>\n",
       "      <td>43</td>\n",
       "      <td>103</td>\n",
       "    </tr>\n",
       "    <tr>\n",
       "      <th>corpoca01</th>\n",
       "      <td>55</td>\n",
       "      <td>170</td>\n",
       "      <td>22</td>\n",
       "      <td>40</td>\n",
       "    </tr>\n",
       "    <tr>\n",
       "      <th>dominma01</th>\n",
       "      <td>157</td>\n",
       "      <td>564</td>\n",
       "      <td>51</td>\n",
       "      <td>121</td>\n",
       "    </tr>\n",
       "  </tbody>\n",
       "</table>\n",
       "</div>"
      ],
      "text/plain": [
       "             G   AB   R    H\n",
       "playerID                    \n",
       "altuvjo01  158  660  85  225\n",
       "cartech02  145  507  68  115\n",
       "castrja01  126  465  43  103\n",
       "corpoca01   55  170  22   40\n",
       "dominma01  157  564  51  121"
      ]
     },
     "execution_count": 37,
     "metadata": {},
     "output_type": "execute_result"
    }
   ],
   "source": [
    "df_14 = baseball_14[['G', 'AB', 'R', 'H']]\n",
    "df_14.head()"
   ]
  },
  {
   "cell_type": "code",
   "execution_count": 38,
   "metadata": {},
   "outputs": [
    {
     "data": {
      "text/html": [
       "<div>\n",
       "<style scoped>\n",
       "    .dataframe tbody tr th:only-of-type {\n",
       "        vertical-align: middle;\n",
       "    }\n",
       "\n",
       "    .dataframe tbody tr th {\n",
       "        vertical-align: top;\n",
       "    }\n",
       "\n",
       "    .dataframe thead th {\n",
       "        text-align: right;\n",
       "    }\n",
       "</style>\n",
       "<table border=\"1\" class=\"dataframe\">\n",
       "  <thead>\n",
       "    <tr style=\"text-align: right;\">\n",
       "      <th></th>\n",
       "      <th>AB</th>\n",
       "      <th>R</th>\n",
       "      <th>H</th>\n",
       "      <th>HR</th>\n",
       "    </tr>\n",
       "    <tr>\n",
       "      <th>playerID</th>\n",
       "      <th></th>\n",
       "      <th></th>\n",
       "      <th></th>\n",
       "      <th></th>\n",
       "    </tr>\n",
       "  </thead>\n",
       "  <tbody>\n",
       "    <tr>\n",
       "      <th>altuvjo01</th>\n",
       "      <td>638</td>\n",
       "      <td>86</td>\n",
       "      <td>200</td>\n",
       "      <td>15</td>\n",
       "    </tr>\n",
       "    <tr>\n",
       "      <th>cartech02</th>\n",
       "      <td>391</td>\n",
       "      <td>50</td>\n",
       "      <td>78</td>\n",
       "      <td>24</td>\n",
       "    </tr>\n",
       "    <tr>\n",
       "      <th>castrja01</th>\n",
       "      <td>337</td>\n",
       "      <td>38</td>\n",
       "      <td>71</td>\n",
       "      <td>11</td>\n",
       "    </tr>\n",
       "    <tr>\n",
       "      <th>congeha01</th>\n",
       "      <td>201</td>\n",
       "      <td>25</td>\n",
       "      <td>46</td>\n",
       "      <td>11</td>\n",
       "    </tr>\n",
       "    <tr>\n",
       "      <th>correca01</th>\n",
       "      <td>387</td>\n",
       "      <td>52</td>\n",
       "      <td>108</td>\n",
       "      <td>22</td>\n",
       "    </tr>\n",
       "  </tbody>\n",
       "</table>\n",
       "</div>"
      ],
      "text/plain": [
       "            AB   R    H  HR\n",
       "playerID                   \n",
       "altuvjo01  638  86  200  15\n",
       "cartech02  391  50   78  24\n",
       "castrja01  337  38   71  11\n",
       "congeha01  201  25   46  11\n",
       "correca01  387  52  108  22"
      ]
     },
     "execution_count": 38,
     "metadata": {},
     "output_type": "execute_result"
    }
   ],
   "source": [
    "df_15 = baseball_15[['AB', 'R', 'H', 'HR']]\n",
    "df_15.head()"
   ]
  },
  {
   "cell_type": "code",
   "execution_count": 39,
   "metadata": {},
   "outputs": [
    {
     "data": {
      "text/html": [
       "<style  type=\"text/css\" >\n",
       "    #T_32041ce6_29e2_11ea_ab70_782bcbb4d4barow0_col1 {\n",
       "            background-color:  yellow;\n",
       "        }    #T_32041ce6_29e2_11ea_ab70_782bcbb4d4barow0_col3 {\n",
       "            background-color:  yellow;\n",
       "        }    #T_32041ce6_29e2_11ea_ab70_782bcbb4d4barow1_col1 {\n",
       "            background-color:  yellow;\n",
       "        }    #T_32041ce6_29e2_11ea_ab70_782bcbb4d4barow1_col3 {\n",
       "            background-color:  yellow;\n",
       "        }    #T_32041ce6_29e2_11ea_ab70_782bcbb4d4barow2_col1 {\n",
       "            background-color:  yellow;\n",
       "        }    #T_32041ce6_29e2_11ea_ab70_782bcbb4d4barow2_col3 {\n",
       "            background-color:  yellow;\n",
       "        }    #T_32041ce6_29e2_11ea_ab70_782bcbb4d4barow3_col0 {\n",
       "            background-color:  yellow;\n",
       "        }    #T_32041ce6_29e2_11ea_ab70_782bcbb4d4barow3_col1 {\n",
       "            background-color:  yellow;\n",
       "        }    #T_32041ce6_29e2_11ea_ab70_782bcbb4d4barow3_col2 {\n",
       "            background-color:  yellow;\n",
       "        }    #T_32041ce6_29e2_11ea_ab70_782bcbb4d4barow3_col3 {\n",
       "            background-color:  yellow;\n",
       "        }    #T_32041ce6_29e2_11ea_ab70_782bcbb4d4barow3_col4 {\n",
       "            background-color:  yellow;\n",
       "        }    #T_32041ce6_29e2_11ea_ab70_782bcbb4d4barow4_col0 {\n",
       "            background-color:  yellow;\n",
       "        }    #T_32041ce6_29e2_11ea_ab70_782bcbb4d4barow4_col1 {\n",
       "            background-color:  yellow;\n",
       "        }    #T_32041ce6_29e2_11ea_ab70_782bcbb4d4barow4_col2 {\n",
       "            background-color:  yellow;\n",
       "        }    #T_32041ce6_29e2_11ea_ab70_782bcbb4d4barow4_col3 {\n",
       "            background-color:  yellow;\n",
       "        }    #T_32041ce6_29e2_11ea_ab70_782bcbb4d4barow4_col4 {\n",
       "            background-color:  yellow;\n",
       "        }    #T_32041ce6_29e2_11ea_ab70_782bcbb4d4barow5_col0 {\n",
       "            background-color:  yellow;\n",
       "        }    #T_32041ce6_29e2_11ea_ab70_782bcbb4d4barow5_col1 {\n",
       "            background-color:  yellow;\n",
       "        }    #T_32041ce6_29e2_11ea_ab70_782bcbb4d4barow5_col2 {\n",
       "            background-color:  yellow;\n",
       "        }    #T_32041ce6_29e2_11ea_ab70_782bcbb4d4barow5_col3 {\n",
       "            background-color:  yellow;\n",
       "        }    #T_32041ce6_29e2_11ea_ab70_782bcbb4d4barow5_col4 {\n",
       "            background-color:  yellow;\n",
       "        }    #T_32041ce6_29e2_11ea_ab70_782bcbb4d4barow6_col0 {\n",
       "            background-color:  yellow;\n",
       "        }    #T_32041ce6_29e2_11ea_ab70_782bcbb4d4barow6_col1 {\n",
       "            background-color:  yellow;\n",
       "        }    #T_32041ce6_29e2_11ea_ab70_782bcbb4d4barow6_col2 {\n",
       "            background-color:  yellow;\n",
       "        }    #T_32041ce6_29e2_11ea_ab70_782bcbb4d4barow6_col3 {\n",
       "            background-color:  yellow;\n",
       "        }    #T_32041ce6_29e2_11ea_ab70_782bcbb4d4barow6_col4 {\n",
       "            background-color:  yellow;\n",
       "        }    #T_32041ce6_29e2_11ea_ab70_782bcbb4d4barow7_col0 {\n",
       "            background-color:  yellow;\n",
       "        }    #T_32041ce6_29e2_11ea_ab70_782bcbb4d4barow7_col1 {\n",
       "            background-color:  yellow;\n",
       "        }    #T_32041ce6_29e2_11ea_ab70_782bcbb4d4barow7_col2 {\n",
       "            background-color:  yellow;\n",
       "        }    #T_32041ce6_29e2_11ea_ab70_782bcbb4d4barow7_col3 {\n",
       "            background-color:  yellow;\n",
       "        }    #T_32041ce6_29e2_11ea_ab70_782bcbb4d4barow7_col4 {\n",
       "            background-color:  yellow;\n",
       "        }    #T_32041ce6_29e2_11ea_ab70_782bcbb4d4barow8_col0 {\n",
       "            background-color:  yellow;\n",
       "        }    #T_32041ce6_29e2_11ea_ab70_782bcbb4d4barow8_col1 {\n",
       "            background-color:  yellow;\n",
       "        }    #T_32041ce6_29e2_11ea_ab70_782bcbb4d4barow8_col2 {\n",
       "            background-color:  yellow;\n",
       "        }    #T_32041ce6_29e2_11ea_ab70_782bcbb4d4barow8_col3 {\n",
       "            background-color:  yellow;\n",
       "        }    #T_32041ce6_29e2_11ea_ab70_782bcbb4d4barow8_col4 {\n",
       "            background-color:  yellow;\n",
       "        }    #T_32041ce6_29e2_11ea_ab70_782bcbb4d4barow9_col0 {\n",
       "            background-color:  yellow;\n",
       "        }    #T_32041ce6_29e2_11ea_ab70_782bcbb4d4barow9_col1 {\n",
       "            background-color:  yellow;\n",
       "        }    #T_32041ce6_29e2_11ea_ab70_782bcbb4d4barow9_col2 {\n",
       "            background-color:  yellow;\n",
       "        }    #T_32041ce6_29e2_11ea_ab70_782bcbb4d4barow9_col3 {\n",
       "            background-color:  yellow;\n",
       "        }    #T_32041ce6_29e2_11ea_ab70_782bcbb4d4barow9_col4 {\n",
       "            background-color:  yellow;\n",
       "        }</style><table id=\"T_32041ce6_29e2_11ea_ab70_782bcbb4d4ba\" ><thead>    <tr>        <th class=\"blank level0\" ></th>        <th class=\"col_heading level0 col0\" >AB</th>        <th class=\"col_heading level0 col1\" >G</th>        <th class=\"col_heading level0 col2\" >H</th>        <th class=\"col_heading level0 col3\" >HR</th>        <th class=\"col_heading level0 col4\" >R</th>    </tr>    <tr>        <th class=\"index_name level0\" >playerID</th>        <th class=\"blank\" ></th>        <th class=\"blank\" ></th>        <th class=\"blank\" ></th>        <th class=\"blank\" ></th>        <th class=\"blank\" ></th>    </tr></thead><tbody>\n",
       "                <tr>\n",
       "                        <th id=\"T_32041ce6_29e2_11ea_ab70_782bcbb4d4balevel0_row0\" class=\"row_heading level0 row0\" >altuvjo01</th>\n",
       "                        <td id=\"T_32041ce6_29e2_11ea_ab70_782bcbb4d4barow0_col0\" class=\"data row0 col0\" >1298</td>\n",
       "                        <td id=\"T_32041ce6_29e2_11ea_ab70_782bcbb4d4barow0_col1\" class=\"data row0 col1\" >nan</td>\n",
       "                        <td id=\"T_32041ce6_29e2_11ea_ab70_782bcbb4d4barow0_col2\" class=\"data row0 col2\" >425</td>\n",
       "                        <td id=\"T_32041ce6_29e2_11ea_ab70_782bcbb4d4barow0_col3\" class=\"data row0 col3\" >nan</td>\n",
       "                        <td id=\"T_32041ce6_29e2_11ea_ab70_782bcbb4d4barow0_col4\" class=\"data row0 col4\" >171</td>\n",
       "            </tr>\n",
       "            <tr>\n",
       "                        <th id=\"T_32041ce6_29e2_11ea_ab70_782bcbb4d4balevel0_row1\" class=\"row_heading level0 row1\" >cartech02</th>\n",
       "                        <td id=\"T_32041ce6_29e2_11ea_ab70_782bcbb4d4barow1_col0\" class=\"data row1 col0\" >898</td>\n",
       "                        <td id=\"T_32041ce6_29e2_11ea_ab70_782bcbb4d4barow1_col1\" class=\"data row1 col1\" >nan</td>\n",
       "                        <td id=\"T_32041ce6_29e2_11ea_ab70_782bcbb4d4barow1_col2\" class=\"data row1 col2\" >193</td>\n",
       "                        <td id=\"T_32041ce6_29e2_11ea_ab70_782bcbb4d4barow1_col3\" class=\"data row1 col3\" >nan</td>\n",
       "                        <td id=\"T_32041ce6_29e2_11ea_ab70_782bcbb4d4barow1_col4\" class=\"data row1 col4\" >118</td>\n",
       "            </tr>\n",
       "            <tr>\n",
       "                        <th id=\"T_32041ce6_29e2_11ea_ab70_782bcbb4d4balevel0_row2\" class=\"row_heading level0 row2\" >castrja01</th>\n",
       "                        <td id=\"T_32041ce6_29e2_11ea_ab70_782bcbb4d4barow2_col0\" class=\"data row2 col0\" >802</td>\n",
       "                        <td id=\"T_32041ce6_29e2_11ea_ab70_782bcbb4d4barow2_col1\" class=\"data row2 col1\" >nan</td>\n",
       "                        <td id=\"T_32041ce6_29e2_11ea_ab70_782bcbb4d4barow2_col2\" class=\"data row2 col2\" >174</td>\n",
       "                        <td id=\"T_32041ce6_29e2_11ea_ab70_782bcbb4d4barow2_col3\" class=\"data row2 col3\" >nan</td>\n",
       "                        <td id=\"T_32041ce6_29e2_11ea_ab70_782bcbb4d4barow2_col4\" class=\"data row2 col4\" >81</td>\n",
       "            </tr>\n",
       "            <tr>\n",
       "                        <th id=\"T_32041ce6_29e2_11ea_ab70_782bcbb4d4balevel0_row3\" class=\"row_heading level0 row3\" >congeha01</th>\n",
       "                        <td id=\"T_32041ce6_29e2_11ea_ab70_782bcbb4d4barow3_col0\" class=\"data row3 col0\" >nan</td>\n",
       "                        <td id=\"T_32041ce6_29e2_11ea_ab70_782bcbb4d4barow3_col1\" class=\"data row3 col1\" >nan</td>\n",
       "                        <td id=\"T_32041ce6_29e2_11ea_ab70_782bcbb4d4barow3_col2\" class=\"data row3 col2\" >nan</td>\n",
       "                        <td id=\"T_32041ce6_29e2_11ea_ab70_782bcbb4d4barow3_col3\" class=\"data row3 col3\" >nan</td>\n",
       "                        <td id=\"T_32041ce6_29e2_11ea_ab70_782bcbb4d4barow3_col4\" class=\"data row3 col4\" >nan</td>\n",
       "            </tr>\n",
       "            <tr>\n",
       "                        <th id=\"T_32041ce6_29e2_11ea_ab70_782bcbb4d4balevel0_row4\" class=\"row_heading level0 row4\" >corpoca01</th>\n",
       "                        <td id=\"T_32041ce6_29e2_11ea_ab70_782bcbb4d4barow4_col0\" class=\"data row4 col0\" >nan</td>\n",
       "                        <td id=\"T_32041ce6_29e2_11ea_ab70_782bcbb4d4barow4_col1\" class=\"data row4 col1\" >nan</td>\n",
       "                        <td id=\"T_32041ce6_29e2_11ea_ab70_782bcbb4d4barow4_col2\" class=\"data row4 col2\" >nan</td>\n",
       "                        <td id=\"T_32041ce6_29e2_11ea_ab70_782bcbb4d4barow4_col3\" class=\"data row4 col3\" >nan</td>\n",
       "                        <td id=\"T_32041ce6_29e2_11ea_ab70_782bcbb4d4barow4_col4\" class=\"data row4 col4\" >nan</td>\n",
       "            </tr>\n",
       "            <tr>\n",
       "                        <th id=\"T_32041ce6_29e2_11ea_ab70_782bcbb4d4balevel0_row5\" class=\"row_heading level0 row5\" >correca01</th>\n",
       "                        <td id=\"T_32041ce6_29e2_11ea_ab70_782bcbb4d4barow5_col0\" class=\"data row5 col0\" >nan</td>\n",
       "                        <td id=\"T_32041ce6_29e2_11ea_ab70_782bcbb4d4barow5_col1\" class=\"data row5 col1\" >nan</td>\n",
       "                        <td id=\"T_32041ce6_29e2_11ea_ab70_782bcbb4d4barow5_col2\" class=\"data row5 col2\" >nan</td>\n",
       "                        <td id=\"T_32041ce6_29e2_11ea_ab70_782bcbb4d4barow5_col3\" class=\"data row5 col3\" >nan</td>\n",
       "                        <td id=\"T_32041ce6_29e2_11ea_ab70_782bcbb4d4barow5_col4\" class=\"data row5 col4\" >nan</td>\n",
       "            </tr>\n",
       "            <tr>\n",
       "                        <th id=\"T_32041ce6_29e2_11ea_ab70_782bcbb4d4balevel0_row6\" class=\"row_heading level0 row6\" >dominma01</th>\n",
       "                        <td id=\"T_32041ce6_29e2_11ea_ab70_782bcbb4d4barow6_col0\" class=\"data row6 col0\" >nan</td>\n",
       "                        <td id=\"T_32041ce6_29e2_11ea_ab70_782bcbb4d4barow6_col1\" class=\"data row6 col1\" >nan</td>\n",
       "                        <td id=\"T_32041ce6_29e2_11ea_ab70_782bcbb4d4barow6_col2\" class=\"data row6 col2\" >nan</td>\n",
       "                        <td id=\"T_32041ce6_29e2_11ea_ab70_782bcbb4d4barow6_col3\" class=\"data row6 col3\" >nan</td>\n",
       "                        <td id=\"T_32041ce6_29e2_11ea_ab70_782bcbb4d4barow6_col4\" class=\"data row6 col4\" >nan</td>\n",
       "            </tr>\n",
       "            <tr>\n",
       "                        <th id=\"T_32041ce6_29e2_11ea_ab70_782bcbb4d4balevel0_row7\" class=\"row_heading level0 row7\" >fowlede01</th>\n",
       "                        <td id=\"T_32041ce6_29e2_11ea_ab70_782bcbb4d4barow7_col0\" class=\"data row7 col0\" >nan</td>\n",
       "                        <td id=\"T_32041ce6_29e2_11ea_ab70_782bcbb4d4barow7_col1\" class=\"data row7 col1\" >nan</td>\n",
       "                        <td id=\"T_32041ce6_29e2_11ea_ab70_782bcbb4d4barow7_col2\" class=\"data row7 col2\" >nan</td>\n",
       "                        <td id=\"T_32041ce6_29e2_11ea_ab70_782bcbb4d4barow7_col3\" class=\"data row7 col3\" >nan</td>\n",
       "                        <td id=\"T_32041ce6_29e2_11ea_ab70_782bcbb4d4barow7_col4\" class=\"data row7 col4\" >nan</td>\n",
       "            </tr>\n",
       "            <tr>\n",
       "                        <th id=\"T_32041ce6_29e2_11ea_ab70_782bcbb4d4balevel0_row8\" class=\"row_heading level0 row8\" >gattiev01</th>\n",
       "                        <td id=\"T_32041ce6_29e2_11ea_ab70_782bcbb4d4barow8_col0\" class=\"data row8 col0\" >nan</td>\n",
       "                        <td id=\"T_32041ce6_29e2_11ea_ab70_782bcbb4d4barow8_col1\" class=\"data row8 col1\" >nan</td>\n",
       "                        <td id=\"T_32041ce6_29e2_11ea_ab70_782bcbb4d4barow8_col2\" class=\"data row8 col2\" >nan</td>\n",
       "                        <td id=\"T_32041ce6_29e2_11ea_ab70_782bcbb4d4barow8_col3\" class=\"data row8 col3\" >nan</td>\n",
       "                        <td id=\"T_32041ce6_29e2_11ea_ab70_782bcbb4d4barow8_col4\" class=\"data row8 col4\" >nan</td>\n",
       "            </tr>\n",
       "            <tr>\n",
       "                        <th id=\"T_32041ce6_29e2_11ea_ab70_782bcbb4d4balevel0_row9\" class=\"row_heading level0 row9\" >gomezca01</th>\n",
       "                        <td id=\"T_32041ce6_29e2_11ea_ab70_782bcbb4d4barow9_col0\" class=\"data row9 col0\" >nan</td>\n",
       "                        <td id=\"T_32041ce6_29e2_11ea_ab70_782bcbb4d4barow9_col1\" class=\"data row9 col1\" >nan</td>\n",
       "                        <td id=\"T_32041ce6_29e2_11ea_ab70_782bcbb4d4barow9_col2\" class=\"data row9 col2\" >nan</td>\n",
       "                        <td id=\"T_32041ce6_29e2_11ea_ab70_782bcbb4d4barow9_col3\" class=\"data row9 col3\" >nan</td>\n",
       "                        <td id=\"T_32041ce6_29e2_11ea_ab70_782bcbb4d4barow9_col4\" class=\"data row9 col4\" >nan</td>\n",
       "            </tr>\n",
       "    </tbody></table>"
      ],
      "text/plain": [
       "<pandas.io.formats.style.Styler at 0x92e3432198>"
      ]
     },
     "execution_count": 39,
     "metadata": {},
     "output_type": "execute_result"
    }
   ],
   "source": [
    "(df_14 + df_15).head(10).style.highlight_null('yellow')"
   ]
  },
  {
   "cell_type": "code",
   "execution_count": 40,
   "metadata": {},
   "outputs": [
    {
     "data": {
      "text/html": [
       "<style  type=\"text/css\" >\n",
       "    #T_df767462_29e2_11ea_9ad5_782bcbb4d4barow3_col1 {\n",
       "            background-color:  yellow;\n",
       "        }    #T_df767462_29e2_11ea_9ad5_782bcbb4d4barow4_col3 {\n",
       "            background-color:  yellow;\n",
       "        }    #T_df767462_29e2_11ea_9ad5_782bcbb4d4barow5_col1 {\n",
       "            background-color:  yellow;\n",
       "        }    #T_df767462_29e2_11ea_9ad5_782bcbb4d4barow6_col3 {\n",
       "            background-color:  yellow;\n",
       "        }    #T_df767462_29e2_11ea_9ad5_782bcbb4d4barow7_col3 {\n",
       "            background-color:  yellow;\n",
       "        }    #T_df767462_29e2_11ea_9ad5_782bcbb4d4barow8_col1 {\n",
       "            background-color:  yellow;\n",
       "        }    #T_df767462_29e2_11ea_9ad5_782bcbb4d4barow9_col1 {\n",
       "            background-color:  yellow;\n",
       "        }</style><table id=\"T_df767462_29e2_11ea_9ad5_782bcbb4d4ba\" ><thead>    <tr>        <th class=\"blank level0\" ></th>        <th class=\"col_heading level0 col0\" >AB</th>        <th class=\"col_heading level0 col1\" >G</th>        <th class=\"col_heading level0 col2\" >H</th>        <th class=\"col_heading level0 col3\" >HR</th>        <th class=\"col_heading level0 col4\" >R</th>    </tr>    <tr>        <th class=\"index_name level0\" >playerID</th>        <th class=\"blank\" ></th>        <th class=\"blank\" ></th>        <th class=\"blank\" ></th>        <th class=\"blank\" ></th>        <th class=\"blank\" ></th>    </tr></thead><tbody>\n",
       "                <tr>\n",
       "                        <th id=\"T_df767462_29e2_11ea_9ad5_782bcbb4d4balevel0_row0\" class=\"row_heading level0 row0\" >altuvjo01</th>\n",
       "                        <td id=\"T_df767462_29e2_11ea_9ad5_782bcbb4d4barow0_col0\" class=\"data row0 col0\" >1298</td>\n",
       "                        <td id=\"T_df767462_29e2_11ea_9ad5_782bcbb4d4barow0_col1\" class=\"data row0 col1\" >158</td>\n",
       "                        <td id=\"T_df767462_29e2_11ea_9ad5_782bcbb4d4barow0_col2\" class=\"data row0 col2\" >425</td>\n",
       "                        <td id=\"T_df767462_29e2_11ea_9ad5_782bcbb4d4barow0_col3\" class=\"data row0 col3\" >15</td>\n",
       "                        <td id=\"T_df767462_29e2_11ea_9ad5_782bcbb4d4barow0_col4\" class=\"data row0 col4\" >171</td>\n",
       "            </tr>\n",
       "            <tr>\n",
       "                        <th id=\"T_df767462_29e2_11ea_9ad5_782bcbb4d4balevel0_row1\" class=\"row_heading level0 row1\" >cartech02</th>\n",
       "                        <td id=\"T_df767462_29e2_11ea_9ad5_782bcbb4d4barow1_col0\" class=\"data row1 col0\" >898</td>\n",
       "                        <td id=\"T_df767462_29e2_11ea_9ad5_782bcbb4d4barow1_col1\" class=\"data row1 col1\" >145</td>\n",
       "                        <td id=\"T_df767462_29e2_11ea_9ad5_782bcbb4d4barow1_col2\" class=\"data row1 col2\" >193</td>\n",
       "                        <td id=\"T_df767462_29e2_11ea_9ad5_782bcbb4d4barow1_col3\" class=\"data row1 col3\" >24</td>\n",
       "                        <td id=\"T_df767462_29e2_11ea_9ad5_782bcbb4d4barow1_col4\" class=\"data row1 col4\" >118</td>\n",
       "            </tr>\n",
       "            <tr>\n",
       "                        <th id=\"T_df767462_29e2_11ea_9ad5_782bcbb4d4balevel0_row2\" class=\"row_heading level0 row2\" >castrja01</th>\n",
       "                        <td id=\"T_df767462_29e2_11ea_9ad5_782bcbb4d4barow2_col0\" class=\"data row2 col0\" >802</td>\n",
       "                        <td id=\"T_df767462_29e2_11ea_9ad5_782bcbb4d4barow2_col1\" class=\"data row2 col1\" >126</td>\n",
       "                        <td id=\"T_df767462_29e2_11ea_9ad5_782bcbb4d4barow2_col2\" class=\"data row2 col2\" >174</td>\n",
       "                        <td id=\"T_df767462_29e2_11ea_9ad5_782bcbb4d4barow2_col3\" class=\"data row2 col3\" >11</td>\n",
       "                        <td id=\"T_df767462_29e2_11ea_9ad5_782bcbb4d4barow2_col4\" class=\"data row2 col4\" >81</td>\n",
       "            </tr>\n",
       "            <tr>\n",
       "                        <th id=\"T_df767462_29e2_11ea_9ad5_782bcbb4d4balevel0_row3\" class=\"row_heading level0 row3\" >congeha01</th>\n",
       "                        <td id=\"T_df767462_29e2_11ea_9ad5_782bcbb4d4barow3_col0\" class=\"data row3 col0\" >201</td>\n",
       "                        <td id=\"T_df767462_29e2_11ea_9ad5_782bcbb4d4barow3_col1\" class=\"data row3 col1\" >nan</td>\n",
       "                        <td id=\"T_df767462_29e2_11ea_9ad5_782bcbb4d4barow3_col2\" class=\"data row3 col2\" >46</td>\n",
       "                        <td id=\"T_df767462_29e2_11ea_9ad5_782bcbb4d4barow3_col3\" class=\"data row3 col3\" >11</td>\n",
       "                        <td id=\"T_df767462_29e2_11ea_9ad5_782bcbb4d4barow3_col4\" class=\"data row3 col4\" >25</td>\n",
       "            </tr>\n",
       "            <tr>\n",
       "                        <th id=\"T_df767462_29e2_11ea_9ad5_782bcbb4d4balevel0_row4\" class=\"row_heading level0 row4\" >corpoca01</th>\n",
       "                        <td id=\"T_df767462_29e2_11ea_9ad5_782bcbb4d4barow4_col0\" class=\"data row4 col0\" >170</td>\n",
       "                        <td id=\"T_df767462_29e2_11ea_9ad5_782bcbb4d4barow4_col1\" class=\"data row4 col1\" >55</td>\n",
       "                        <td id=\"T_df767462_29e2_11ea_9ad5_782bcbb4d4barow4_col2\" class=\"data row4 col2\" >40</td>\n",
       "                        <td id=\"T_df767462_29e2_11ea_9ad5_782bcbb4d4barow4_col3\" class=\"data row4 col3\" >nan</td>\n",
       "                        <td id=\"T_df767462_29e2_11ea_9ad5_782bcbb4d4barow4_col4\" class=\"data row4 col4\" >22</td>\n",
       "            </tr>\n",
       "            <tr>\n",
       "                        <th id=\"T_df767462_29e2_11ea_9ad5_782bcbb4d4balevel0_row5\" class=\"row_heading level0 row5\" >correca01</th>\n",
       "                        <td id=\"T_df767462_29e2_11ea_9ad5_782bcbb4d4barow5_col0\" class=\"data row5 col0\" >387</td>\n",
       "                        <td id=\"T_df767462_29e2_11ea_9ad5_782bcbb4d4barow5_col1\" class=\"data row5 col1\" >nan</td>\n",
       "                        <td id=\"T_df767462_29e2_11ea_9ad5_782bcbb4d4barow5_col2\" class=\"data row5 col2\" >108</td>\n",
       "                        <td id=\"T_df767462_29e2_11ea_9ad5_782bcbb4d4barow5_col3\" class=\"data row5 col3\" >22</td>\n",
       "                        <td id=\"T_df767462_29e2_11ea_9ad5_782bcbb4d4barow5_col4\" class=\"data row5 col4\" >52</td>\n",
       "            </tr>\n",
       "            <tr>\n",
       "                        <th id=\"T_df767462_29e2_11ea_9ad5_782bcbb4d4balevel0_row6\" class=\"row_heading level0 row6\" >dominma01</th>\n",
       "                        <td id=\"T_df767462_29e2_11ea_9ad5_782bcbb4d4barow6_col0\" class=\"data row6 col0\" >564</td>\n",
       "                        <td id=\"T_df767462_29e2_11ea_9ad5_782bcbb4d4barow6_col1\" class=\"data row6 col1\" >157</td>\n",
       "                        <td id=\"T_df767462_29e2_11ea_9ad5_782bcbb4d4barow6_col2\" class=\"data row6 col2\" >121</td>\n",
       "                        <td id=\"T_df767462_29e2_11ea_9ad5_782bcbb4d4barow6_col3\" class=\"data row6 col3\" >nan</td>\n",
       "                        <td id=\"T_df767462_29e2_11ea_9ad5_782bcbb4d4barow6_col4\" class=\"data row6 col4\" >51</td>\n",
       "            </tr>\n",
       "            <tr>\n",
       "                        <th id=\"T_df767462_29e2_11ea_9ad5_782bcbb4d4balevel0_row7\" class=\"row_heading level0 row7\" >fowlede01</th>\n",
       "                        <td id=\"T_df767462_29e2_11ea_9ad5_782bcbb4d4barow7_col0\" class=\"data row7 col0\" >434</td>\n",
       "                        <td id=\"T_df767462_29e2_11ea_9ad5_782bcbb4d4barow7_col1\" class=\"data row7 col1\" >116</td>\n",
       "                        <td id=\"T_df767462_29e2_11ea_9ad5_782bcbb4d4barow7_col2\" class=\"data row7 col2\" >120</td>\n",
       "                        <td id=\"T_df767462_29e2_11ea_9ad5_782bcbb4d4barow7_col3\" class=\"data row7 col3\" >nan</td>\n",
       "                        <td id=\"T_df767462_29e2_11ea_9ad5_782bcbb4d4barow7_col4\" class=\"data row7 col4\" >61</td>\n",
       "            </tr>\n",
       "            <tr>\n",
       "                        <th id=\"T_df767462_29e2_11ea_9ad5_782bcbb4d4balevel0_row8\" class=\"row_heading level0 row8\" >gattiev01</th>\n",
       "                        <td id=\"T_df767462_29e2_11ea_9ad5_782bcbb4d4barow8_col0\" class=\"data row8 col0\" >566</td>\n",
       "                        <td id=\"T_df767462_29e2_11ea_9ad5_782bcbb4d4barow8_col1\" class=\"data row8 col1\" >nan</td>\n",
       "                        <td id=\"T_df767462_29e2_11ea_9ad5_782bcbb4d4barow8_col2\" class=\"data row8 col2\" >139</td>\n",
       "                        <td id=\"T_df767462_29e2_11ea_9ad5_782bcbb4d4barow8_col3\" class=\"data row8 col3\" >27</td>\n",
       "                        <td id=\"T_df767462_29e2_11ea_9ad5_782bcbb4d4barow8_col4\" class=\"data row8 col4\" >66</td>\n",
       "            </tr>\n",
       "            <tr>\n",
       "                        <th id=\"T_df767462_29e2_11ea_9ad5_782bcbb4d4balevel0_row9\" class=\"row_heading level0 row9\" >gomezca01</th>\n",
       "                        <td id=\"T_df767462_29e2_11ea_9ad5_782bcbb4d4barow9_col0\" class=\"data row9 col0\" >149</td>\n",
       "                        <td id=\"T_df767462_29e2_11ea_9ad5_782bcbb4d4barow9_col1\" class=\"data row9 col1\" >nan</td>\n",
       "                        <td id=\"T_df767462_29e2_11ea_9ad5_782bcbb4d4barow9_col2\" class=\"data row9 col2\" >36</td>\n",
       "                        <td id=\"T_df767462_29e2_11ea_9ad5_782bcbb4d4barow9_col3\" class=\"data row9 col3\" >4</td>\n",
       "                        <td id=\"T_df767462_29e2_11ea_9ad5_782bcbb4d4barow9_col4\" class=\"data row9 col4\" >19</td>\n",
       "            </tr>\n",
       "    </tbody></table>"
      ],
      "text/plain": [
       "<pandas.io.formats.style.Styler at 0x92e353f278>"
      ]
     },
     "execution_count": 40,
     "metadata": {},
     "output_type": "execute_result"
    }
   ],
   "source": [
    "df_14.add(df_15, fill_value=0).head(10).style.highlight_null('yellow')"
   ]
  },
  {
   "cell_type": "markdown",
   "metadata": {},
   "source": [
    "# Appending columns from different DataFrames"
   ]
  },
  {
   "cell_type": "code",
   "execution_count": 41,
   "metadata": {},
   "outputs": [],
   "source": [
    "employee = pd.read_csv('data/employee.csv')\n",
    "dept_sal = employee[['DEPARTMENT', 'BASE_SALARY']]"
   ]
  },
  {
   "cell_type": "code",
   "execution_count": 42,
   "metadata": {},
   "outputs": [],
   "source": [
    "dept_sal = dept_sal.sort_values(['DEPARTMENT', 'BASE_SALARY'], ascending=[True, False])"
   ]
  },
  {
   "cell_type": "code",
   "execution_count": 47,
   "metadata": {},
   "outputs": [],
   "source": [
    "max_dept_sal = dept_sal.drop_duplicates(subset='DEPARTMENT')"
   ]
  },
  {
   "cell_type": "code",
   "execution_count": 48,
   "metadata": {},
   "outputs": [
    {
     "data": {
      "text/html": [
       "<div>\n",
       "<style scoped>\n",
       "    .dataframe tbody tr th:only-of-type {\n",
       "        vertical-align: middle;\n",
       "    }\n",
       "\n",
       "    .dataframe tbody tr th {\n",
       "        vertical-align: top;\n",
       "    }\n",
       "\n",
       "    .dataframe thead th {\n",
       "        text-align: right;\n",
       "    }\n",
       "</style>\n",
       "<table border=\"1\" class=\"dataframe\">\n",
       "  <thead>\n",
       "    <tr style=\"text-align: right;\">\n",
       "      <th></th>\n",
       "      <th>DEPARTMENT</th>\n",
       "      <th>BASE_SALARY</th>\n",
       "    </tr>\n",
       "  </thead>\n",
       "  <tbody>\n",
       "    <tr>\n",
       "      <th>1494</th>\n",
       "      <td>Admn. &amp; Regulatory Affairs</td>\n",
       "      <td>140416.0</td>\n",
       "    </tr>\n",
       "    <tr>\n",
       "      <th>149</th>\n",
       "      <td>City Controller's Office</td>\n",
       "      <td>64251.0</td>\n",
       "    </tr>\n",
       "    <tr>\n",
       "      <th>236</th>\n",
       "      <td>City Council</td>\n",
       "      <td>100000.0</td>\n",
       "    </tr>\n",
       "    <tr>\n",
       "      <th>647</th>\n",
       "      <td>Convention and Entertainment</td>\n",
       "      <td>38397.0</td>\n",
       "    </tr>\n",
       "    <tr>\n",
       "      <th>1500</th>\n",
       "      <td>Dept of Neighborhoods (DON)</td>\n",
       "      <td>89221.0</td>\n",
       "    </tr>\n",
       "  </tbody>\n",
       "</table>\n",
       "</div>"
      ],
      "text/plain": [
       "                        DEPARTMENT  BASE_SALARY\n",
       "1494    Admn. & Regulatory Affairs     140416.0\n",
       "149       City Controller's Office      64251.0\n",
       "236                   City Council     100000.0\n",
       "647   Convention and Entertainment      38397.0\n",
       "1500   Dept of Neighborhoods (DON)      89221.0"
      ]
     },
     "execution_count": 48,
     "metadata": {},
     "output_type": "execute_result"
    }
   ],
   "source": [
    "max_dept_sal.head()"
   ]
  },
  {
   "cell_type": "code",
   "execution_count": 49,
   "metadata": {},
   "outputs": [],
   "source": [
    "max_dept_sal = max_dept_sal.set_index('DEPARTMENT')\n",
    "employee = employee.set_index('DEPARTMENT')"
   ]
  },
  {
   "cell_type": "code",
   "execution_count": 50,
   "metadata": {},
   "outputs": [],
   "source": [
    "employee['MAX_DEPT_SALARY'] = max_dept_sal['BASE_SALARY']"
   ]
  },
  {
   "cell_type": "code",
   "execution_count": 51,
   "metadata": {},
   "outputs": [],
   "source": [
    "pd.options.display.max_columns = 6"
   ]
  },
  {
   "cell_type": "code",
   "execution_count": 52,
   "metadata": {},
   "outputs": [
    {
     "data": {
      "text/html": [
       "<div>\n",
       "<style scoped>\n",
       "    .dataframe tbody tr th:only-of-type {\n",
       "        vertical-align: middle;\n",
       "    }\n",
       "\n",
       "    .dataframe tbody tr th {\n",
       "        vertical-align: top;\n",
       "    }\n",
       "\n",
       "    .dataframe thead th {\n",
       "        text-align: right;\n",
       "    }\n",
       "</style>\n",
       "<table border=\"1\" class=\"dataframe\">\n",
       "  <thead>\n",
       "    <tr style=\"text-align: right;\">\n",
       "      <th></th>\n",
       "      <th>UNIQUE_ID</th>\n",
       "      <th>POSITION_TITLE</th>\n",
       "      <th>BASE_SALARY</th>\n",
       "      <th>...</th>\n",
       "      <th>HIRE_DATE</th>\n",
       "      <th>JOB_DATE</th>\n",
       "      <th>MAX_DEPT_SALARY</th>\n",
       "    </tr>\n",
       "    <tr>\n",
       "      <th>DEPARTMENT</th>\n",
       "      <th></th>\n",
       "      <th></th>\n",
       "      <th></th>\n",
       "      <th></th>\n",
       "      <th></th>\n",
       "      <th></th>\n",
       "      <th></th>\n",
       "    </tr>\n",
       "  </thead>\n",
       "  <tbody>\n",
       "    <tr>\n",
       "      <th>Municipal Courts Department</th>\n",
       "      <td>0</td>\n",
       "      <td>ASSISTANT DIRECTOR (EX LVL)</td>\n",
       "      <td>121862.0</td>\n",
       "      <td>...</td>\n",
       "      <td>2006-06-12</td>\n",
       "      <td>2012-10-13</td>\n",
       "      <td>121862.0</td>\n",
       "    </tr>\n",
       "    <tr>\n",
       "      <th>Library</th>\n",
       "      <td>1</td>\n",
       "      <td>LIBRARY ASSISTANT</td>\n",
       "      <td>26125.0</td>\n",
       "      <td>...</td>\n",
       "      <td>2000-07-19</td>\n",
       "      <td>2010-09-18</td>\n",
       "      <td>107763.0</td>\n",
       "    </tr>\n",
       "    <tr>\n",
       "      <th>Houston Police Department-HPD</th>\n",
       "      <td>2</td>\n",
       "      <td>POLICE OFFICER</td>\n",
       "      <td>45279.0</td>\n",
       "      <td>...</td>\n",
       "      <td>2015-02-03</td>\n",
       "      <td>2015-02-03</td>\n",
       "      <td>199596.0</td>\n",
       "    </tr>\n",
       "    <tr>\n",
       "      <th>Houston Fire Department (HFD)</th>\n",
       "      <td>3</td>\n",
       "      <td>ENGINEER/OPERATOR</td>\n",
       "      <td>63166.0</td>\n",
       "      <td>...</td>\n",
       "      <td>1982-02-08</td>\n",
       "      <td>1991-05-25</td>\n",
       "      <td>210588.0</td>\n",
       "    </tr>\n",
       "    <tr>\n",
       "      <th>General Services Department</th>\n",
       "      <td>4</td>\n",
       "      <td>ELECTRICIAN</td>\n",
       "      <td>56347.0</td>\n",
       "      <td>...</td>\n",
       "      <td>1989-06-19</td>\n",
       "      <td>1994-10-22</td>\n",
       "      <td>89194.0</td>\n",
       "    </tr>\n",
       "  </tbody>\n",
       "</table>\n",
       "<p>5 rows × 10 columns</p>\n",
       "</div>"
      ],
      "text/plain": [
       "                               UNIQUE_ID               POSITION_TITLE  \\\n",
       "DEPARTMENT                                                              \n",
       "Municipal Courts Department            0  ASSISTANT DIRECTOR (EX LVL)   \n",
       "Library                                1            LIBRARY ASSISTANT   \n",
       "Houston Police Department-HPD          2               POLICE OFFICER   \n",
       "Houston Fire Department (HFD)          3            ENGINEER/OPERATOR   \n",
       "General Services Department            4                  ELECTRICIAN   \n",
       "\n",
       "                               BASE_SALARY  ...   HIRE_DATE    JOB_DATE  \\\n",
       "DEPARTMENT                                  ...                           \n",
       "Municipal Courts Department       121862.0  ...  2006-06-12  2012-10-13   \n",
       "Library                            26125.0  ...  2000-07-19  2010-09-18   \n",
       "Houston Police Department-HPD      45279.0  ...  2015-02-03  2015-02-03   \n",
       "Houston Fire Department (HFD)      63166.0  ...  1982-02-08  1991-05-25   \n",
       "General Services Department        56347.0  ...  1989-06-19  1994-10-22   \n",
       "\n",
       "                              MAX_DEPT_SALARY  \n",
       "DEPARTMENT                                     \n",
       "Municipal Courts Department          121862.0  \n",
       "Library                              107763.0  \n",
       "Houston Police Department-HPD        199596.0  \n",
       "Houston Fire Department (HFD)        210588.0  \n",
       "General Services Department           89194.0  \n",
       "\n",
       "[5 rows x 10 columns]"
      ]
     },
     "execution_count": 52,
     "metadata": {},
     "output_type": "execute_result"
    }
   ],
   "source": [
    "employee.head()"
   ]
  },
  {
   "cell_type": "code",
   "execution_count": 53,
   "metadata": {},
   "outputs": [
    {
     "data": {
      "text/html": [
       "<div>\n",
       "<style scoped>\n",
       "    .dataframe tbody tr th:only-of-type {\n",
       "        vertical-align: middle;\n",
       "    }\n",
       "\n",
       "    .dataframe tbody tr th {\n",
       "        vertical-align: top;\n",
       "    }\n",
       "\n",
       "    .dataframe thead th {\n",
       "        text-align: right;\n",
       "    }\n",
       "</style>\n",
       "<table border=\"1\" class=\"dataframe\">\n",
       "  <thead>\n",
       "    <tr style=\"text-align: right;\">\n",
       "      <th></th>\n",
       "      <th>UNIQUE_ID</th>\n",
       "      <th>POSITION_TITLE</th>\n",
       "      <th>BASE_SALARY</th>\n",
       "      <th>...</th>\n",
       "      <th>HIRE_DATE</th>\n",
       "      <th>JOB_DATE</th>\n",
       "      <th>MAX_DEPT_SALARY</th>\n",
       "    </tr>\n",
       "    <tr>\n",
       "      <th>DEPARTMENT</th>\n",
       "      <th></th>\n",
       "      <th></th>\n",
       "      <th></th>\n",
       "      <th></th>\n",
       "      <th></th>\n",
       "      <th></th>\n",
       "      <th></th>\n",
       "    </tr>\n",
       "  </thead>\n",
       "  <tbody>\n",
       "  </tbody>\n",
       "</table>\n",
       "<p>0 rows × 10 columns</p>\n",
       "</div>"
      ],
      "text/plain": [
       "Empty DataFrame\n",
       "Columns: [UNIQUE_ID, POSITION_TITLE, BASE_SALARY, RACE, EMPLOYMENT_TYPE, GENDER, EMPLOYMENT_STATUS, HIRE_DATE, JOB_DATE, MAX_DEPT_SALARY]\n",
       "Index: []\n",
       "\n",
       "[0 rows x 10 columns]"
      ]
     },
     "execution_count": 53,
     "metadata": {},
     "output_type": "execute_result"
    }
   ],
   "source": [
    "employee.query('BASE_SALARY > MAX_DEPT_SALARY')"
   ]
  },
  {
   "cell_type": "code",
   "execution_count": null,
   "metadata": {},
   "outputs": [],
   "source": []
  }
 ],
 "metadata": {
  "kernelspec": {
   "display_name": "Python 3",
   "language": "python",
   "name": "python3"
  },
  "language_info": {
   "codemirror_mode": {
    "name": "ipython",
    "version": 3
   },
   "file_extension": ".py",
   "mimetype": "text/x-python",
   "name": "python",
   "nbconvert_exporter": "python",
   "pygments_lexer": "ipython3",
   "version": "3.7.3"
  }
 },
 "nbformat": 4,
 "nbformat_minor": 2
}
